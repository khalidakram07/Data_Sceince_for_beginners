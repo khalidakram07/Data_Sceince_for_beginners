{
  "nbformat": 4,
  "nbformat_minor": 0,
  "metadata": {
    "anaconda-cloud": {},
    "kernelspec": {
      "display_name": "Python 3",
      "language": "python",
      "name": "python3"
    },
    "language_info": {
      "codemirror_mode": {
        "name": "ipython",
        "version": 3
      },
      "file_extension": ".py",
      "mimetype": "text/x-python",
      "name": "python",
      "nbconvert_exporter": "python",
      "pygments_lexer": "ipython3",
      "version": "3.7.3"
    },
    "colab": {
      "name": "Omission_datascience_basics.ipynb",
      "provenance": [],
      "include_colab_link": true
    }
  },
  "cells": [
    {
      "cell_type": "markdown",
      "metadata": {
        "id": "view-in-github",
        "colab_type": "text"
      },
      "source": [
        "<a href=\"https://colab.research.google.com/github/khalidakram07/Data_Sceince_for_beginners/blob/main/Omission_datascience_basics.ipynb\" target=\"_parent\"><img src=\"https://colab.research.google.com/assets/colab-badge.svg\" alt=\"Open In Colab\"/></a>"
      ]
    },
    {
      "cell_type": "markdown",
      "metadata": {
        "id": "NWqL2mHenwO4"
      },
      "source": [
        "Omission"
      ]
    },
    {
      "cell_type": "code",
      "metadata": {
        "id": "S6TZDtf6nwPs"
      },
      "source": [
        "import numpy as np\n",
        "import pandas as pd \n",
        "from pandas import Series, DataFrame"
      ],
      "execution_count": 1,
      "outputs": []
    },
    {
      "cell_type": "markdown",
      "metadata": {
        "id": "2XzkbTo6nwPz"
      },
      "source": [
        "### Figuring out what data is missing"
      ]
    },
    {
      "cell_type": "code",
      "metadata": {
        "colab": {
          "base_uri": "https://localhost:8080/"
        },
        "id": "EXDydwd0nwP2",
        "outputId": "13fe9010-c473-4370-a04f-c6b556f27761"
      },
      "source": [
        "missing = np.nan\n",
        "\n",
        "obj = Series(['row 1', 'row 2', missing, 'row 4', 'row 5', 'row 6', missing])\n",
        "obj"
      ],
      "execution_count": 5,
      "outputs": [
        {
          "output_type": "execute_result",
          "data": {
            "text/plain": [
              "0    row 1\n",
              "1    row 2\n",
              "2      NaN\n",
              "3    row 4\n",
              "4    row 5\n",
              "5    row 6\n",
              "6      NaN\n",
              "dtype: object"
            ]
          },
          "metadata": {
            "tags": []
          },
          "execution_count": 5
        }
      ]
    },
    {
      "cell_type": "code",
      "metadata": {
        "colab": {
          "base_uri": "https://localhost:8080/"
        },
        "id": "2WaYdi7TnwQA",
        "outputId": "497c7325-24ac-4d83-836a-e9d56fb2a708"
      },
      "source": [
        "obj.isnull()"
      ],
      "execution_count": 6,
      "outputs": [
        {
          "output_type": "execute_result",
          "data": {
            "text/plain": [
              "0    False\n",
              "1    False\n",
              "2     True\n",
              "3    False\n",
              "4    False\n",
              "5    False\n",
              "6     True\n",
              "dtype: bool"
            ]
          },
          "metadata": {
            "tags": []
          },
          "execution_count": 6
        }
      ]
    },
    {
      "cell_type": "markdown",
      "metadata": {
        "id": "DNixDvi4nwQD"
      },
      "source": [
        "### Filling in for missing values"
      ]
    },
    {
      "cell_type": "code",
      "metadata": {
        "colab": {
          "base_uri": "https://localhost:8080/",
          "height": 191
        },
        "id": "84i6CVQvnwQG",
        "outputId": "bc63fc8c-b5c8-432a-a26f-7bdc2c0f96fc"
      },
      "source": [
        "np.random.seed(5)\n",
        "df = DataFrame(np.random.rand(25).reshape(5,5))\n",
        "df"
      ],
      "execution_count": 9,
      "outputs": [
        {
          "output_type": "execute_result",
          "data": {
            "text/html": [
              "<div>\n",
              "<style scoped>\n",
              "    .dataframe tbody tr th:only-of-type {\n",
              "        vertical-align: middle;\n",
              "    }\n",
              "\n",
              "    .dataframe tbody tr th {\n",
              "        vertical-align: top;\n",
              "    }\n",
              "\n",
              "    .dataframe thead th {\n",
              "        text-align: right;\n",
              "    }\n",
              "</style>\n",
              "<table border=\"1\" class=\"dataframe\">\n",
              "  <thead>\n",
              "    <tr style=\"text-align: right;\">\n",
              "      <th></th>\n",
              "      <th>0</th>\n",
              "      <th>1</th>\n",
              "      <th>2</th>\n",
              "      <th>3</th>\n",
              "      <th>4</th>\n",
              "    </tr>\n",
              "  </thead>\n",
              "  <tbody>\n",
              "    <tr>\n",
              "      <th>0</th>\n",
              "      <td>0.221993</td>\n",
              "      <td>0.870732</td>\n",
              "      <td>0.206719</td>\n",
              "      <td>0.918611</td>\n",
              "      <td>0.488411</td>\n",
              "    </tr>\n",
              "    <tr>\n",
              "      <th>1</th>\n",
              "      <td>0.611744</td>\n",
              "      <td>0.765908</td>\n",
              "      <td>0.518418</td>\n",
              "      <td>0.296801</td>\n",
              "      <td>0.187721</td>\n",
              "    </tr>\n",
              "    <tr>\n",
              "      <th>2</th>\n",
              "      <td>0.080741</td>\n",
              "      <td>0.738440</td>\n",
              "      <td>0.441309</td>\n",
              "      <td>0.158310</td>\n",
              "      <td>0.879937</td>\n",
              "    </tr>\n",
              "    <tr>\n",
              "      <th>3</th>\n",
              "      <td>0.274086</td>\n",
              "      <td>0.414235</td>\n",
              "      <td>0.296080</td>\n",
              "      <td>0.628788</td>\n",
              "      <td>0.579838</td>\n",
              "    </tr>\n",
              "    <tr>\n",
              "      <th>4</th>\n",
              "      <td>0.599929</td>\n",
              "      <td>0.265819</td>\n",
              "      <td>0.284686</td>\n",
              "      <td>0.253588</td>\n",
              "      <td>0.327564</td>\n",
              "    </tr>\n",
              "  </tbody>\n",
              "</table>\n",
              "</div>"
            ],
            "text/plain": [
              "          0         1         2         3         4\n",
              "0  0.221993  0.870732  0.206719  0.918611  0.488411\n",
              "1  0.611744  0.765908  0.518418  0.296801  0.187721\n",
              "2  0.080741  0.738440  0.441309  0.158310  0.879937\n",
              "3  0.274086  0.414235  0.296080  0.628788  0.579838\n",
              "4  0.599929  0.265819  0.284686  0.253588  0.327564"
            ]
          },
          "metadata": {
            "tags": []
          },
          "execution_count": 9
        }
      ]
    },
    {
      "cell_type": "code",
      "metadata": {
        "scrolled": true,
        "colab": {
          "base_uri": "https://localhost:8080/",
          "height": 191
        },
        "id": "uV-71G5lnwQN",
        "outputId": "84f3a0d8-fff1-4b11-9f8e-787c5b627fde"
      },
      "source": [
        "df.loc[3:5, 0] = missing\n",
        "df.loc[1:4, 5] = missing\n",
        "df"
      ],
      "execution_count": 10,
      "outputs": [
        {
          "output_type": "execute_result",
          "data": {
            "text/html": [
              "<div>\n",
              "<style scoped>\n",
              "    .dataframe tbody tr th:only-of-type {\n",
              "        vertical-align: middle;\n",
              "    }\n",
              "\n",
              "    .dataframe tbody tr th {\n",
              "        vertical-align: top;\n",
              "    }\n",
              "\n",
              "    .dataframe thead th {\n",
              "        text-align: right;\n",
              "    }\n",
              "</style>\n",
              "<table border=\"1\" class=\"dataframe\">\n",
              "  <thead>\n",
              "    <tr style=\"text-align: right;\">\n",
              "      <th></th>\n",
              "      <th>0</th>\n",
              "      <th>1</th>\n",
              "      <th>2</th>\n",
              "      <th>3</th>\n",
              "      <th>4</th>\n",
              "      <th>5</th>\n",
              "    </tr>\n",
              "  </thead>\n",
              "  <tbody>\n",
              "    <tr>\n",
              "      <th>0</th>\n",
              "      <td>0.221993</td>\n",
              "      <td>0.870732</td>\n",
              "      <td>0.206719</td>\n",
              "      <td>0.918611</td>\n",
              "      <td>0.488411</td>\n",
              "      <td>NaN</td>\n",
              "    </tr>\n",
              "    <tr>\n",
              "      <th>1</th>\n",
              "      <td>0.611744</td>\n",
              "      <td>0.765908</td>\n",
              "      <td>0.518418</td>\n",
              "      <td>0.296801</td>\n",
              "      <td>0.187721</td>\n",
              "      <td>NaN</td>\n",
              "    </tr>\n",
              "    <tr>\n",
              "      <th>2</th>\n",
              "      <td>0.080741</td>\n",
              "      <td>0.738440</td>\n",
              "      <td>0.441309</td>\n",
              "      <td>0.158310</td>\n",
              "      <td>0.879937</td>\n",
              "      <td>NaN</td>\n",
              "    </tr>\n",
              "    <tr>\n",
              "      <th>3</th>\n",
              "      <td>NaN</td>\n",
              "      <td>0.414235</td>\n",
              "      <td>0.296080</td>\n",
              "      <td>0.628788</td>\n",
              "      <td>0.579838</td>\n",
              "      <td>NaN</td>\n",
              "    </tr>\n",
              "    <tr>\n",
              "      <th>4</th>\n",
              "      <td>NaN</td>\n",
              "      <td>0.265819</td>\n",
              "      <td>0.284686</td>\n",
              "      <td>0.253588</td>\n",
              "      <td>0.327564</td>\n",
              "      <td>NaN</td>\n",
              "    </tr>\n",
              "  </tbody>\n",
              "</table>\n",
              "</div>"
            ],
            "text/plain": [
              "          0         1         2         3         4   5\n",
              "0  0.221993  0.870732  0.206719  0.918611  0.488411 NaN\n",
              "1  0.611744  0.765908  0.518418  0.296801  0.187721 NaN\n",
              "2  0.080741  0.738440  0.441309  0.158310  0.879937 NaN\n",
              "3       NaN  0.414235  0.296080  0.628788  0.579838 NaN\n",
              "4       NaN  0.265819  0.284686  0.253588  0.327564 NaN"
            ]
          },
          "metadata": {
            "tags": []
          },
          "execution_count": 10
        }
      ]
    },
    {
      "cell_type": "code",
      "metadata": {
        "colab": {
          "base_uri": "https://localhost:8080/",
          "height": 191
        },
        "id": "F0dikRQ5nwQQ",
        "outputId": "d9a3c6e1-c121-4f1d-dd24-51d757880132"
      },
      "source": [
        "filled_DF = DF_obj.fillna(0)\n",
        "filled_DF"
      ],
      "execution_count": 11,
      "outputs": [
        {
          "output_type": "execute_result",
          "data": {
            "text/html": [
              "<div>\n",
              "<style scoped>\n",
              "    .dataframe tbody tr th:only-of-type {\n",
              "        vertical-align: middle;\n",
              "    }\n",
              "\n",
              "    .dataframe tbody tr th {\n",
              "        vertical-align: top;\n",
              "    }\n",
              "\n",
              "    .dataframe thead th {\n",
              "        text-align: right;\n",
              "    }\n",
              "</style>\n",
              "<table border=\"1\" class=\"dataframe\">\n",
              "  <thead>\n",
              "    <tr style=\"text-align: right;\">\n",
              "      <th></th>\n",
              "      <th>0</th>\n",
              "      <th>1</th>\n",
              "      <th>2</th>\n",
              "      <th>3</th>\n",
              "      <th>4</th>\n",
              "    </tr>\n",
              "  </thead>\n",
              "  <tbody>\n",
              "    <tr>\n",
              "      <th>0</th>\n",
              "      <td>0.221993</td>\n",
              "      <td>0.870732</td>\n",
              "      <td>0.206719</td>\n",
              "      <td>0.918611</td>\n",
              "      <td>0.488411</td>\n",
              "    </tr>\n",
              "    <tr>\n",
              "      <th>1</th>\n",
              "      <td>0.611744</td>\n",
              "      <td>0.765908</td>\n",
              "      <td>0.518418</td>\n",
              "      <td>0.296801</td>\n",
              "      <td>0.187721</td>\n",
              "    </tr>\n",
              "    <tr>\n",
              "      <th>2</th>\n",
              "      <td>0.080741</td>\n",
              "      <td>0.738440</td>\n",
              "      <td>0.441309</td>\n",
              "      <td>0.158310</td>\n",
              "      <td>0.879937</td>\n",
              "    </tr>\n",
              "    <tr>\n",
              "      <th>3</th>\n",
              "      <td>0.274086</td>\n",
              "      <td>0.414235</td>\n",
              "      <td>0.296080</td>\n",
              "      <td>0.628788</td>\n",
              "      <td>0.579838</td>\n",
              "    </tr>\n",
              "    <tr>\n",
              "      <th>4</th>\n",
              "      <td>0.599929</td>\n",
              "      <td>0.265819</td>\n",
              "      <td>0.284686</td>\n",
              "      <td>0.253588</td>\n",
              "      <td>0.327564</td>\n",
              "    </tr>\n",
              "  </tbody>\n",
              "</table>\n",
              "</div>"
            ],
            "text/plain": [
              "          0         1         2         3         4\n",
              "0  0.221993  0.870732  0.206719  0.918611  0.488411\n",
              "1  0.611744  0.765908  0.518418  0.296801  0.187721\n",
              "2  0.080741  0.738440  0.441309  0.158310  0.879937\n",
              "3  0.274086  0.414235  0.296080  0.628788  0.579838\n",
              "4  0.599929  0.265819  0.284686  0.253588  0.327564"
            ]
          },
          "metadata": {
            "tags": []
          },
          "execution_count": 11
        }
      ]
    },
    {
      "cell_type": "code",
      "metadata": {
        "colab": {
          "base_uri": "https://localhost:8080/",
          "height": 191
        },
        "id": "Ng7ozD5TnwQT",
        "outputId": "0ce98510-2800-49ea-e56d-3831da6599ca"
      },
      "source": [
        "filled_DF = DF_obj.fillna({0: 0.1, 5:1.25})\n",
        "filled_DF"
      ],
      "execution_count": 12,
      "outputs": [
        {
          "output_type": "execute_result",
          "data": {
            "text/html": [
              "<div>\n",
              "<style scoped>\n",
              "    .dataframe tbody tr th:only-of-type {\n",
              "        vertical-align: middle;\n",
              "    }\n",
              "\n",
              "    .dataframe tbody tr th {\n",
              "        vertical-align: top;\n",
              "    }\n",
              "\n",
              "    .dataframe thead th {\n",
              "        text-align: right;\n",
              "    }\n",
              "</style>\n",
              "<table border=\"1\" class=\"dataframe\">\n",
              "  <thead>\n",
              "    <tr style=\"text-align: right;\">\n",
              "      <th></th>\n",
              "      <th>0</th>\n",
              "      <th>1</th>\n",
              "      <th>2</th>\n",
              "      <th>3</th>\n",
              "      <th>4</th>\n",
              "    </tr>\n",
              "  </thead>\n",
              "  <tbody>\n",
              "    <tr>\n",
              "      <th>0</th>\n",
              "      <td>0.221993</td>\n",
              "      <td>0.870732</td>\n",
              "      <td>0.206719</td>\n",
              "      <td>0.918611</td>\n",
              "      <td>0.488411</td>\n",
              "    </tr>\n",
              "    <tr>\n",
              "      <th>1</th>\n",
              "      <td>0.611744</td>\n",
              "      <td>0.765908</td>\n",
              "      <td>0.518418</td>\n",
              "      <td>0.296801</td>\n",
              "      <td>0.187721</td>\n",
              "    </tr>\n",
              "    <tr>\n",
              "      <th>2</th>\n",
              "      <td>0.080741</td>\n",
              "      <td>0.738440</td>\n",
              "      <td>0.441309</td>\n",
              "      <td>0.158310</td>\n",
              "      <td>0.879937</td>\n",
              "    </tr>\n",
              "    <tr>\n",
              "      <th>3</th>\n",
              "      <td>0.274086</td>\n",
              "      <td>0.414235</td>\n",
              "      <td>0.296080</td>\n",
              "      <td>0.628788</td>\n",
              "      <td>0.579838</td>\n",
              "    </tr>\n",
              "    <tr>\n",
              "      <th>4</th>\n",
              "      <td>0.599929</td>\n",
              "      <td>0.265819</td>\n",
              "      <td>0.284686</td>\n",
              "      <td>0.253588</td>\n",
              "      <td>0.327564</td>\n",
              "    </tr>\n",
              "  </tbody>\n",
              "</table>\n",
              "</div>"
            ],
            "text/plain": [
              "          0         1         2         3         4\n",
              "0  0.221993  0.870732  0.206719  0.918611  0.488411\n",
              "1  0.611744  0.765908  0.518418  0.296801  0.187721\n",
              "2  0.080741  0.738440  0.441309  0.158310  0.879937\n",
              "3  0.274086  0.414235  0.296080  0.628788  0.579838\n",
              "4  0.599929  0.265819  0.284686  0.253588  0.327564"
            ]
          },
          "metadata": {
            "tags": []
          },
          "execution_count": 12
        }
      ]
    },
    {
      "cell_type": "code",
      "metadata": {
        "scrolled": true,
        "colab": {
          "base_uri": "https://localhost:8080/",
          "height": 191
        },
        "id": "Mn9DDOeBnwQW",
        "outputId": "3a631433-5a33-4eb1-80b6-bf3cbf093808"
      },
      "source": [
        "fill_DF = DF_obj.fillna(method='ffill')\n",
        "fill_DF"
      ],
      "execution_count": 13,
      "outputs": [
        {
          "output_type": "execute_result",
          "data": {
            "text/html": [
              "<div>\n",
              "<style scoped>\n",
              "    .dataframe tbody tr th:only-of-type {\n",
              "        vertical-align: middle;\n",
              "    }\n",
              "\n",
              "    .dataframe tbody tr th {\n",
              "        vertical-align: top;\n",
              "    }\n",
              "\n",
              "    .dataframe thead th {\n",
              "        text-align: right;\n",
              "    }\n",
              "</style>\n",
              "<table border=\"1\" class=\"dataframe\">\n",
              "  <thead>\n",
              "    <tr style=\"text-align: right;\">\n",
              "      <th></th>\n",
              "      <th>0</th>\n",
              "      <th>1</th>\n",
              "      <th>2</th>\n",
              "      <th>3</th>\n",
              "      <th>4</th>\n",
              "    </tr>\n",
              "  </thead>\n",
              "  <tbody>\n",
              "    <tr>\n",
              "      <th>0</th>\n",
              "      <td>0.221993</td>\n",
              "      <td>0.870732</td>\n",
              "      <td>0.206719</td>\n",
              "      <td>0.918611</td>\n",
              "      <td>0.488411</td>\n",
              "    </tr>\n",
              "    <tr>\n",
              "      <th>1</th>\n",
              "      <td>0.611744</td>\n",
              "      <td>0.765908</td>\n",
              "      <td>0.518418</td>\n",
              "      <td>0.296801</td>\n",
              "      <td>0.187721</td>\n",
              "    </tr>\n",
              "    <tr>\n",
              "      <th>2</th>\n",
              "      <td>0.080741</td>\n",
              "      <td>0.738440</td>\n",
              "      <td>0.441309</td>\n",
              "      <td>0.158310</td>\n",
              "      <td>0.879937</td>\n",
              "    </tr>\n",
              "    <tr>\n",
              "      <th>3</th>\n",
              "      <td>0.274086</td>\n",
              "      <td>0.414235</td>\n",
              "      <td>0.296080</td>\n",
              "      <td>0.628788</td>\n",
              "      <td>0.579838</td>\n",
              "    </tr>\n",
              "    <tr>\n",
              "      <th>4</th>\n",
              "      <td>0.599929</td>\n",
              "      <td>0.265819</td>\n",
              "      <td>0.284686</td>\n",
              "      <td>0.253588</td>\n",
              "      <td>0.327564</td>\n",
              "    </tr>\n",
              "  </tbody>\n",
              "</table>\n",
              "</div>"
            ],
            "text/plain": [
              "          0         1         2         3         4\n",
              "0  0.221993  0.870732  0.206719  0.918611  0.488411\n",
              "1  0.611744  0.765908  0.518418  0.296801  0.187721\n",
              "2  0.080741  0.738440  0.441309  0.158310  0.879937\n",
              "3  0.274086  0.414235  0.296080  0.628788  0.579838\n",
              "4  0.599929  0.265819  0.284686  0.253588  0.327564"
            ]
          },
          "metadata": {
            "tags": []
          },
          "execution_count": 13
        }
      ]
    },
    {
      "cell_type": "markdown",
      "metadata": {
        "id": "IFdsEe4YnwQb"
      },
      "source": [
        "### Counting missing values"
      ]
    },
    {
      "cell_type": "code",
      "metadata": {
        "colab": {
          "base_uri": "https://localhost:8080/",
          "height": 191
        },
        "id": "mxD_6gLPnwQe",
        "outputId": "be7efdcb-7443-4aa9-f865-1e1e1a01f029"
      },
      "source": [
        "np.random.seed(5)\n",
        "df = DataFrame(np.random.rand(25).reshape(5,5))\n",
        "df.loc[3:5, 0] = missing\n",
        "df.loc[1:4, 5] = missing\n",
        "df"
      ],
      "execution_count": 14,
      "outputs": [
        {
          "output_type": "execute_result",
          "data": {
            "text/html": [
              "<div>\n",
              "<style scoped>\n",
              "    .dataframe tbody tr th:only-of-type {\n",
              "        vertical-align: middle;\n",
              "    }\n",
              "\n",
              "    .dataframe tbody tr th {\n",
              "        vertical-align: top;\n",
              "    }\n",
              "\n",
              "    .dataframe thead th {\n",
              "        text-align: right;\n",
              "    }\n",
              "</style>\n",
              "<table border=\"1\" class=\"dataframe\">\n",
              "  <thead>\n",
              "    <tr style=\"text-align: right;\">\n",
              "      <th></th>\n",
              "      <th>0</th>\n",
              "      <th>1</th>\n",
              "      <th>2</th>\n",
              "      <th>3</th>\n",
              "      <th>4</th>\n",
              "      <th>5</th>\n",
              "    </tr>\n",
              "  </thead>\n",
              "  <tbody>\n",
              "    <tr>\n",
              "      <th>0</th>\n",
              "      <td>0.221993</td>\n",
              "      <td>0.870732</td>\n",
              "      <td>0.206719</td>\n",
              "      <td>0.918611</td>\n",
              "      <td>0.488411</td>\n",
              "      <td>NaN</td>\n",
              "    </tr>\n",
              "    <tr>\n",
              "      <th>1</th>\n",
              "      <td>0.611744</td>\n",
              "      <td>0.765908</td>\n",
              "      <td>0.518418</td>\n",
              "      <td>0.296801</td>\n",
              "      <td>0.187721</td>\n",
              "      <td>NaN</td>\n",
              "    </tr>\n",
              "    <tr>\n",
              "      <th>2</th>\n",
              "      <td>0.080741</td>\n",
              "      <td>0.738440</td>\n",
              "      <td>0.441309</td>\n",
              "      <td>0.158310</td>\n",
              "      <td>0.879937</td>\n",
              "      <td>NaN</td>\n",
              "    </tr>\n",
              "    <tr>\n",
              "      <th>3</th>\n",
              "      <td>NaN</td>\n",
              "      <td>0.414235</td>\n",
              "      <td>0.296080</td>\n",
              "      <td>0.628788</td>\n",
              "      <td>0.579838</td>\n",
              "      <td>NaN</td>\n",
              "    </tr>\n",
              "    <tr>\n",
              "      <th>4</th>\n",
              "      <td>NaN</td>\n",
              "      <td>0.265819</td>\n",
              "      <td>0.284686</td>\n",
              "      <td>0.253588</td>\n",
              "      <td>0.327564</td>\n",
              "      <td>NaN</td>\n",
              "    </tr>\n",
              "  </tbody>\n",
              "</table>\n",
              "</div>"
            ],
            "text/plain": [
              "          0         1         2         3         4   5\n",
              "0  0.221993  0.870732  0.206719  0.918611  0.488411 NaN\n",
              "1  0.611744  0.765908  0.518418  0.296801  0.187721 NaN\n",
              "2  0.080741  0.738440  0.441309  0.158310  0.879937 NaN\n",
              "3       NaN  0.414235  0.296080  0.628788  0.579838 NaN\n",
              "4       NaN  0.265819  0.284686  0.253588  0.327564 NaN"
            ]
          },
          "metadata": {
            "tags": []
          },
          "execution_count": 14
        }
      ]
    },
    {
      "cell_type": "code",
      "metadata": {
        "colab": {
          "base_uri": "https://localhost:8080/"
        },
        "id": "aHTpICXNnwQh",
        "outputId": "ca430a29-7441-4661-ebc7-e17e38ccb164"
      },
      "source": [
        "df.isnull().sum()"
      ],
      "execution_count": 15,
      "outputs": [
        {
          "output_type": "execute_result",
          "data": {
            "text/plain": [
              "0    2\n",
              "1    0\n",
              "2    0\n",
              "3    0\n",
              "4    0\n",
              "5    5\n",
              "dtype: int64"
            ]
          },
          "metadata": {
            "tags": []
          },
          "execution_count": 15
        }
      ]
    },
    {
      "cell_type": "markdown",
      "metadata": {
        "id": "XEMXvN-5nwQk"
      },
      "source": [
        "### Filtering out missing values"
      ]
    },
    {
      "cell_type": "code",
      "metadata": {
        "colab": {
          "base_uri": "https://localhost:8080/",
          "height": 46
        },
        "id": "NqoW8XddnwQl",
        "outputId": "7c3632bc-53a5-4f64-acdb-b036848256ae"
      },
      "source": [
        "DF_no_NaN = df.dropna()\n",
        "DF_no_NaN"
      ],
      "execution_count": 16,
      "outputs": [
        {
          "output_type": "execute_result",
          "data": {
            "text/html": [
              "<div>\n",
              "<style scoped>\n",
              "    .dataframe tbody tr th:only-of-type {\n",
              "        vertical-align: middle;\n",
              "    }\n",
              "\n",
              "    .dataframe tbody tr th {\n",
              "        vertical-align: top;\n",
              "    }\n",
              "\n",
              "    .dataframe thead th {\n",
              "        text-align: right;\n",
              "    }\n",
              "</style>\n",
              "<table border=\"1\" class=\"dataframe\">\n",
              "  <thead>\n",
              "    <tr style=\"text-align: right;\">\n",
              "      <th></th>\n",
              "      <th>0</th>\n",
              "      <th>1</th>\n",
              "      <th>2</th>\n",
              "      <th>3</th>\n",
              "      <th>4</th>\n",
              "      <th>5</th>\n",
              "    </tr>\n",
              "  </thead>\n",
              "  <tbody>\n",
              "  </tbody>\n",
              "</table>\n",
              "</div>"
            ],
            "text/plain": [
              "Empty DataFrame\n",
              "Columns: [0, 1, 2, 3, 4, 5]\n",
              "Index: []"
            ]
          },
          "metadata": {
            "tags": []
          },
          "execution_count": 16
        }
      ]
    },
    {
      "cell_type": "code",
      "metadata": {
        "colab": {
          "base_uri": "https://localhost:8080/",
          "height": 191
        },
        "id": "uY6KcWiRnwQq",
        "outputId": "290ac29b-d655-4906-f75a-22633725a366"
      },
      "source": [
        "DF_no_NaN = df.dropna(axis=1)\n",
        "DF_no_NaN"
      ],
      "execution_count": 17,
      "outputs": [
        {
          "output_type": "execute_result",
          "data": {
            "text/html": [
              "<div>\n",
              "<style scoped>\n",
              "    .dataframe tbody tr th:only-of-type {\n",
              "        vertical-align: middle;\n",
              "    }\n",
              "\n",
              "    .dataframe tbody tr th {\n",
              "        vertical-align: top;\n",
              "    }\n",
              "\n",
              "    .dataframe thead th {\n",
              "        text-align: right;\n",
              "    }\n",
              "</style>\n",
              "<table border=\"1\" class=\"dataframe\">\n",
              "  <thead>\n",
              "    <tr style=\"text-align: right;\">\n",
              "      <th></th>\n",
              "      <th>1</th>\n",
              "      <th>2</th>\n",
              "      <th>3</th>\n",
              "      <th>4</th>\n",
              "    </tr>\n",
              "  </thead>\n",
              "  <tbody>\n",
              "    <tr>\n",
              "      <th>0</th>\n",
              "      <td>0.870732</td>\n",
              "      <td>0.206719</td>\n",
              "      <td>0.918611</td>\n",
              "      <td>0.488411</td>\n",
              "    </tr>\n",
              "    <tr>\n",
              "      <th>1</th>\n",
              "      <td>0.765908</td>\n",
              "      <td>0.518418</td>\n",
              "      <td>0.296801</td>\n",
              "      <td>0.187721</td>\n",
              "    </tr>\n",
              "    <tr>\n",
              "      <th>2</th>\n",
              "      <td>0.738440</td>\n",
              "      <td>0.441309</td>\n",
              "      <td>0.158310</td>\n",
              "      <td>0.879937</td>\n",
              "    </tr>\n",
              "    <tr>\n",
              "      <th>3</th>\n",
              "      <td>0.414235</td>\n",
              "      <td>0.296080</td>\n",
              "      <td>0.628788</td>\n",
              "      <td>0.579838</td>\n",
              "    </tr>\n",
              "    <tr>\n",
              "      <th>4</th>\n",
              "      <td>0.265819</td>\n",
              "      <td>0.284686</td>\n",
              "      <td>0.253588</td>\n",
              "      <td>0.327564</td>\n",
              "    </tr>\n",
              "  </tbody>\n",
              "</table>\n",
              "</div>"
            ],
            "text/plain": [
              "          1         2         3         4\n",
              "0  0.870732  0.206719  0.918611  0.488411\n",
              "1  0.765908  0.518418  0.296801  0.187721\n",
              "2  0.738440  0.441309  0.158310  0.879937\n",
              "3  0.414235  0.296080  0.628788  0.579838\n",
              "4  0.265819  0.284686  0.253588  0.327564"
            ]
          },
          "metadata": {
            "tags": []
          },
          "execution_count": 17
        }
      ]
    }
  ]
}