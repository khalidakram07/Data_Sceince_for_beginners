{
  "nbformat": 4,
  "nbformat_minor": 0,
  "metadata": {
    "colab": {
      "name": "Errors.ipynb",
      "provenance": [],
      "authorship_tag": "ABX9TyOAj4LB01823sdNhfw5VKZ6",
      "include_colab_link": true
    },
    "kernelspec": {
      "name": "python3",
      "display_name": "Python 3"
    }
  },
  "cells": [
    {
      "cell_type": "markdown",
      "metadata": {
        "id": "view-in-github",
        "colab_type": "text"
      },
      "source": [
        "<a href=\"https://colab.research.google.com/github/khalidakram07/Data_Sceince_for_beginners/blob/main/Errors.ipynb\" target=\"_parent\"><img src=\"https://colab.research.google.com/assets/colab-badge.svg\" alt=\"Open In Colab\"/></a>"
      ]
    },
    {
      "cell_type": "markdown",
      "metadata": {
        "id": "dDqQ5StOw3JX"
      },
      "source": [
        "Error in data is of two types\r\n",
        "\r\n",
        "1.Sampling error\r\n",
        "\r\n",
        "2.Nonsampling error"
      ]
    },
    {
      "cell_type": "markdown",
      "metadata": {
        "id": "0Hta2mJawmjg"
      },
      "source": [
        "**Sampling error**\r\n",
        "\r\n",
        "In sampling contexts, the standard error is called sampling error.Sampling error gives us some idea of the precision of our statistical estimate.A low sampling error means that we had relatively less variability or range in the sampling distribution."
      ]
    },
    {
      "cell_type": "code",
      "metadata": {
        "id": "xfNuetNQ3bQA"
      },
      "source": [
        ""
      ],
      "execution_count": null,
      "outputs": []
    },
    {
      "cell_type": "code",
      "metadata": {
        "colab": {
          "base_uri": "https://localhost:8080/"
        },
        "id": "AhiGK9Apwzia",
        "outputId": "3981e14c-dc22-48fd-c69f-70368a512a32"
      },
      "source": [
        "import numpy as np\r\n",
        "\r\n",
        "#define dataset\r\n",
        "df = np.array([1,2,3,4,5,6,6,8,10,12,14,18,20])\r\n",
        "\r\n",
        "#Calculate standard error of the mean \r\n",
        "#ddof=1 calculates the sample standard deviation as opposed to the population standard deviation\r\n",
        "sampling_error_mean=np.std(df, ddof=1) / np.sqrt(np.size(df))\r\n",
        "sampling_error_mean"
      ],
      "execution_count": 4,
      "outputs": [
        {
          "output_type": "execute_result",
          "data": {
            "text/plain": [
              "1.681492246063008"
            ]
          },
          "metadata": {
            "tags": []
          },
          "execution_count": 4
        }
      ]
    },
    {
      "cell_type": "markdown",
      "metadata": {
        "id": "MmD7BVahziYe"
      },
      "source": [
        "The larger the standard error of the mean, the more spread out values are around the mean in a dataset.\r\n",
        "\r\n",
        "As the sample size increases, the standard error of the mean tends to decrease"
      ]
    },
    {
      "cell_type": "code",
      "metadata": {
        "colab": {
          "base_uri": "https://localhost:8080/"
        },
        "id": "kgjQIsOf0quu",
        "outputId": "06bd6527-13a4-4adf-debb-7c41ef8d0f76"
      },
      "source": [
        "#Another way to find standard error mean is using SciPy\r\n",
        "\r\n",
        "from scipy.stats import sem \r\n",
        "\r\n",
        "#define first dataset and find SEM\r\n",
        "df = [2,6,10,14,20]\r\n",
        "s=sem(df)\r\n",
        "print(\"Standard error mean is \",s)\r\n",
        "\r\n"
      ],
      "execution_count": 5,
      "outputs": [
        {
          "output_type": "stream",
          "text": [
            "Standard error mean is  3.1240998703626617\n"
          ],
          "name": "stdout"
        }
      ]
    }
  ]
}